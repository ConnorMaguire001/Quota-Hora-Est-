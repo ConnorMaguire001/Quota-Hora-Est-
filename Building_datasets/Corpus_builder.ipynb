{
  "nbformat": 4,
  "nbformat_minor": 0,
  "metadata": {
    "colab": {
      "provenance": []
    },
    "kernelspec": {
      "name": "python3",
      "display_name": "Python 3"
    },
    "language_info": {
      "name": "python"
    }
  },
  "cells": [
    {
      "cell_type": "code",
      "execution_count": 1,
      "metadata": {
        "id": "pTrR24ii3PYR"
      },
      "outputs": [],
      "source": [
        "#pip install cltk"
      ]
    },
    {
      "cell_type": "code",
      "source": [
        "from google.colab import drive\n",
        "drive.mount('/content/drive',force_remount=True )"
      ],
      "metadata": {
        "colab": {
          "base_uri": "https://localhost:8080/"
        },
        "id": "Z1L_Dkzw4dHr",
        "outputId": "0f75b0d1-4cf4-445e-9a8b-aeb2275287d1"
      },
      "execution_count": null,
      "outputs": [
        {
          "output_type": "stream",
          "name": "stdout",
          "text": [
            "Mounted at /content/drive\n"
          ]
        }
      ]
    },
    {
      "cell_type": "code",
      "source": [
        "from bs4 import BeautifulSoup\n",
        "from nltk.tokenize import word_tokenize, sent_tokenize\n",
        "import nltk\n",
        "import cltk\n",
        "from cltk import NLP\n",
        "import pandas as pd\n",
        "import numpy as np\n",
        "import os\n",
        "import re"
      ],
      "metadata": {
        "id": "Q3-1UxjO3vwz"
      },
      "execution_count": null,
      "outputs": []
    },
    {
      "cell_type": "code",
      "source": [
        " nltk.download('punkt')"
      ],
      "metadata": {
        "colab": {
          "base_uri": "https://localhost:8080/"
        },
        "id": "quQ_Wdyd31Xs",
        "outputId": "2213de0a-bffe-4028-9916-ef5a5462f124"
      },
      "execution_count": null,
      "outputs": [
        {
          "output_type": "stream",
          "name": "stderr",
          "text": [
            "[nltk_data] Downloading package punkt to /root/nltk_data...\n",
            "[nltk_data]   Package punkt is already up-to-date!\n"
          ]
        },
        {
          "output_type": "execute_result",
          "data": {
            "text/plain": [
              "True"
            ]
          },
          "metadata": {},
          "execution_count": 4
        }
      ]
    },
    {
      "cell_type": "markdown",
      "source": [
        "Formatting text (XML to Tuple of desired attributes)"
      ],
      "metadata": {
        "id": "B_hNXNuO3-_C"
      }
    },
    {
      "cell_type": "code",
      "source": [
        "def desoupify(fileloc):\n",
        "    #Creates soup object\n",
        "    with open( fileloc, 'r') as f:\n",
        "        file = f.read()\n",
        "    xml_soup = BeautifulSoup(file,'xml')\n",
        "\n",
        "    note_tags = xml_soup.find_all('note')\n",
        "    for note in note_tags:\n",
        "        note.decompose()\n",
        "\n",
        "#grabs text from the object\n",
        "    text_soup = xml_soup.find_all(\"p\")\n",
        "\n",
        "    length = len(text_soup)\n",
        "    if length == 0:\n",
        "        text_soup = xml_soup.find_all(\"l\")\n",
        "#joins into text\n",
        "    text = []\n",
        "    for x in text_soup:\n",
        "        text.append(x.text)\n",
        "    text = ' '.join(text)\n",
        "\n",
        "    return text"
      ],
      "metadata": {
        "id": "jyA14Gjb35h5"
      },
      "execution_count": null,
      "outputs": []
    },
    {
      "cell_type": "code",
      "source": [
        "#Cleans text\n",
        "def text_clear(text):\n",
        "\n",
        "#converts all characters to lower case\n",
        "    string = text.lower()\n",
        "\n",
        "    string = string.replace(\"\\n\",\" \")\n",
        "\n",
        "#removes notes\n",
        "    string = re.sub('<note.*</note>','',string)\n",
        "\n",
        "#replaces Kal. with Kalends\n",
        "    string = string.replace(\"kal.\",\"kalends\")\n",
        "#cleans out punctuation\n",
        "    punc = '''()-[]{};:'\"\\,<>/@,#$%^&,:*_~'''\n",
        "    for sym in string:\n",
        "        if sym in punc:\n",
        "            string = string.replace(sym,\"\")\n",
        "    string = string.replace('keyboarding','')\n",
        "    return string"
      ],
      "metadata": {
        "id": "VPy0V6du4F2P"
      },
      "execution_count": null,
      "outputs": []
    },
    {
      "cell_type": "code",
      "source": [
        "#tokenizer\n",
        "def tokenizer_pipline(string):\n",
        "    finished = []\n",
        "    string = sent_tokenize(string)\n",
        "    for x in string:\n",
        "        finished.append(word_tokenize(x))\n",
        "\n",
        "    return finished"
      ],
      "metadata": {
        "id": "C5Hkm2Pg4Jr6"
      },
      "execution_count": null,
      "outputs": []
    },
    {
      "cell_type": "code",
      "source": [
        "#example of cleaned text\n",
        "fin = text_clear(desoupify('/content/drive/MyDrive/Final_Project/Ovid/Fasti'))\n",
        "print(fin[:100])"
      ],
      "metadata": {
        "colab": {
          "base_uri": "https://localhost:8080/"
        },
        "id": "QG99lqKo4lcl",
        "outputId": "fae59b6e-2e96-4fd6-ce6e-ba64b4e1b347"
      },
      "execution_count": null,
      "outputs": [
        {
          "output_type": "stream",
          "name": "stdout",
          "text": [
            "  tempora cum causis latium digesta per annum lapsaque sub terras ortaque signa canam excipe pacato \n"
          ]
        }
      ]
    },
    {
      "cell_type": "code",
      "source": [
        "#establishing NLP pipline and removing all but the LatinStanzaProcess\n",
        "cltk_nlp = NLP(language=\"lat\")\n",
        "cltk_nlp.pipeline.processes.pop(-1)\n",
        "cltk_nlp.pipeline.processes.pop(-2)\n",
        "cltk_nlp.pipeline.processes.pop(-3)\n",
        "cltk_nlp.pipeline.processes.pop(1)"
      ],
      "metadata": {
        "colab": {
          "base_uri": "https://localhost:8080/"
        },
        "id": "kZuI0sC14QGL",
        "outputId": "55bd4e51-7e8b-458a-83a1-3d56a96ae0c4"
      },
      "execution_count": null,
      "outputs": [
        {
          "output_type": "stream",
          "name": "stdout",
          "text": [
            "‎𐤀 CLTK version '1.1.6'.\n",
            "Pipeline for language 'Latin' (ISO: 'lat'): `LatinNormalizeProcess`, `LatinStanzaProcess`, `LatinEmbeddingsProcess`, `StopsProcess`, `LatinLexiconProcess`.\n"
          ]
        },
        {
          "output_type": "execute_result",
          "data": {
            "text/plain": [
              "cltk.stops.processes.StopsProcess"
            ]
          },
          "metadata": {},
          "execution_count": 9
        }
      ]
    },
    {
      "cell_type": "code",
      "source": [
        "print(cltk_nlp.pipeline.processes)"
      ],
      "metadata": {
        "colab": {
          "base_uri": "https://localhost:8080/"
        },
        "id": "XbHI7O2h5xZI",
        "outputId": "8b41f1a1-39d3-4a8e-a6bb-f53a86025cae"
      },
      "execution_count": null,
      "outputs": [
        {
          "output_type": "stream",
          "name": "stdout",
          "text": [
            "[<class 'cltk.dependency.processes.LatinStanzaProcess'>]\n"
          ]
        }
      ]
    },
    {
      "cell_type": "markdown",
      "source": [
        "Tuples to Dataframe"
      ],
      "metadata": {
        "id": "s15ghLOX8YfL"
      }
    },
    {
      "cell_type": "code",
      "source": [
        "#Creates tuples of desired atrributes\n",
        "def attributor(directory,period):\n",
        "    final = []\n",
        "\n",
        "    for filename in os.listdir(directory):\n",
        "        f = os.path.join(directory, filename)\n",
        "        ready = tokenizer_pipline(text_clear(desoupify(f)))\n",
        "        author = re.findall(r'[A-Za-z]*$',directory)[0]\n",
        "        for x in ready:\n",
        "           y = ' '.join(x)\n",
        "           final.append((author,period,filename,x,y))\n",
        "    return final"
      ],
      "metadata": {
        "id": "ZGzr0oB55zVS"
      },
      "execution_count": null,
      "outputs": []
    },
    {
      "cell_type": "code",
      "source": [
        "#Location author directory => df of all texts in dir , Period of work\n",
        "data = attributor('/content/drive/MyDrive/Final_Project/Arnobius','Patristic')"
      ],
      "metadata": {
        "id": "gdWOapa98K4c"
      },
      "execution_count": null,
      "outputs": []
    },
    {
      "cell_type": "code",
      "source": [
        "# Creating a DataFrame\n",
        "df = pd.DataFrame(data,columns=['Author','Period','Work','Tokenized Text','Text'])\n",
        "df.head(1)"
      ],
      "metadata": {
        "id": "mFWmoEPi8n99"
      },
      "execution_count": null,
      "outputs": []
    },
    {
      "cell_type": "code",
      "source": [
        "#5000 entries = ~15 minutes\n",
        "#Lemmatizing\n",
        "lemmas =[]\n",
        "count = 0\n",
        "for x in df['Text']:\n",
        "  lemmata = cltk_nlp.analyze(text= x).lemmata\n",
        "  lemmas.append(lemmata)"
      ],
      "metadata": {
        "id": "ix3YhCJv8rOX"
      },
      "execution_count": null,
      "outputs": []
    },
    {
      "cell_type": "code",
      "source": [
        "#adds lemmas to df\n",
        "df[\"Lemmatized Text\"] = lemmas"
      ],
      "metadata": {
        "id": "nZ1NoHSsB7S-"
      },
      "execution_count": null,
      "outputs": []
    },
    {
      "cell_type": "code",
      "source": [
        "#only use if work entries appear as \"work.xml\"\n",
        "df['Work'] = df['Work'].apply(lambda x: str(x)[:-4])"
      ],
      "metadata": {
        "id": "LKYHkKK2WL3b"
      },
      "execution_count": null,
      "outputs": []
    },
    {
      "cell_type": "code",
      "source": [
        "author = str(df['Author'][0])"
      ],
      "metadata": {
        "id": "Hoe8vCLrP4j3"
      },
      "execution_count": null,
      "outputs": []
    },
    {
      "cell_type": "code",
      "source": [
        "df.head(2)"
      ],
      "metadata": {
        "colab": {
          "base_uri": "https://localhost:8080/",
          "height": 190
        },
        "id": "WsrTmLGWNISM",
        "outputId": "9c6177ba-0caa-4978-9aaf-221083c913b9"
      },
      "execution_count": null,
      "outputs": [
        {
          "output_type": "execute_result",
          "data": {
            "text/plain": [
              "     Author     Period                           Work  \\\n",
              "0  Arnobius  Patristic  Disputationes adversus gentes   \n",
              "1  Arnobius  Patristic  Disputationes adversus gentes   \n",
              "\n",
              "                                      Tokenized Text  \\\n",
              "0  [patrologia, latina, this, file, was, encoded,...   \n",
              "1  [roelli, in, 2019, classical, latin, orthography]   \n",
              "\n",
              "                                                Text  \\\n",
              "0  patrologia latina this file was encoded in tei...   \n",
              "1         roelli in 2019 classical latin orthography   \n",
              "\n",
              "                                     Lemmatized Text  \n",
              "0  [patrologia, latina, thus, filius, was, encode...  \n",
              "1  [roellum, in, 2019, classicalis, latior, ortho...  "
            ],
            "text/html": [
              "\n",
              "  <div id=\"df-367a461c-fe38-4230-8198-3c3dacd0fe0c\">\n",
              "    <div class=\"colab-df-container\">\n",
              "      <div>\n",
              "<style scoped>\n",
              "    .dataframe tbody tr th:only-of-type {\n",
              "        vertical-align: middle;\n",
              "    }\n",
              "\n",
              "    .dataframe tbody tr th {\n",
              "        vertical-align: top;\n",
              "    }\n",
              "\n",
              "    .dataframe thead th {\n",
              "        text-align: right;\n",
              "    }\n",
              "</style>\n",
              "<table border=\"1\" class=\"dataframe\">\n",
              "  <thead>\n",
              "    <tr style=\"text-align: right;\">\n",
              "      <th></th>\n",
              "      <th>Author</th>\n",
              "      <th>Period</th>\n",
              "      <th>Work</th>\n",
              "      <th>Tokenized Text</th>\n",
              "      <th>Text</th>\n",
              "      <th>Lemmatized Text</th>\n",
              "    </tr>\n",
              "  </thead>\n",
              "  <tbody>\n",
              "    <tr>\n",
              "      <th>0</th>\n",
              "      <td>Arnobius</td>\n",
              "      <td>Patristic</td>\n",
              "      <td>Disputationes adversus gentes</td>\n",
              "      <td>[patrologia, latina, this, file, was, encoded,...</td>\n",
              "      <td>patrologia latina this file was encoded in tei...</td>\n",
              "      <td>[patrologia, latina, thus, filius, was, encode...</td>\n",
              "    </tr>\n",
              "    <tr>\n",
              "      <th>1</th>\n",
              "      <td>Arnobius</td>\n",
              "      <td>Patristic</td>\n",
              "      <td>Disputationes adversus gentes</td>\n",
              "      <td>[roelli, in, 2019, classical, latin, orthography]</td>\n",
              "      <td>roelli in 2019 classical latin orthography</td>\n",
              "      <td>[roellum, in, 2019, classicalis, latior, ortho...</td>\n",
              "    </tr>\n",
              "  </tbody>\n",
              "</table>\n",
              "</div>\n",
              "      <button class=\"colab-df-convert\" onclick=\"convertToInteractive('df-367a461c-fe38-4230-8198-3c3dacd0fe0c')\"\n",
              "              title=\"Convert this dataframe to an interactive table.\"\n",
              "              style=\"display:none;\">\n",
              "        \n",
              "  <svg xmlns=\"http://www.w3.org/2000/svg\" height=\"24px\"viewBox=\"0 0 24 24\"\n",
              "       width=\"24px\">\n",
              "    <path d=\"M0 0h24v24H0V0z\" fill=\"none\"/>\n",
              "    <path d=\"M18.56 5.44l.94 2.06.94-2.06 2.06-.94-2.06-.94-.94-2.06-.94 2.06-2.06.94zm-11 1L8.5 8.5l.94-2.06 2.06-.94-2.06-.94L8.5 2.5l-.94 2.06-2.06.94zm10 10l.94 2.06.94-2.06 2.06-.94-2.06-.94-.94-2.06-.94 2.06-2.06.94z\"/><path d=\"M17.41 7.96l-1.37-1.37c-.4-.4-.92-.59-1.43-.59-.52 0-1.04.2-1.43.59L10.3 9.45l-7.72 7.72c-.78.78-.78 2.05 0 2.83L4 21.41c.39.39.9.59 1.41.59.51 0 1.02-.2 1.41-.59l7.78-7.78 2.81-2.81c.8-.78.8-2.07 0-2.86zM5.41 20L4 18.59l7.72-7.72 1.47 1.35L5.41 20z\"/>\n",
              "  </svg>\n",
              "      </button>\n",
              "      \n",
              "  <style>\n",
              "    .colab-df-container {\n",
              "      display:flex;\n",
              "      flex-wrap:wrap;\n",
              "      gap: 12px;\n",
              "    }\n",
              "\n",
              "    .colab-df-convert {\n",
              "      background-color: #E8F0FE;\n",
              "      border: none;\n",
              "      border-radius: 50%;\n",
              "      cursor: pointer;\n",
              "      display: none;\n",
              "      fill: #1967D2;\n",
              "      height: 32px;\n",
              "      padding: 0 0 0 0;\n",
              "      width: 32px;\n",
              "    }\n",
              "\n",
              "    .colab-df-convert:hover {\n",
              "      background-color: #E2EBFA;\n",
              "      box-shadow: 0px 1px 2px rgba(60, 64, 67, 0.3), 0px 1px 3px 1px rgba(60, 64, 67, 0.15);\n",
              "      fill: #174EA6;\n",
              "    }\n",
              "\n",
              "    [theme=dark] .colab-df-convert {\n",
              "      background-color: #3B4455;\n",
              "      fill: #D2E3FC;\n",
              "    }\n",
              "\n",
              "    [theme=dark] .colab-df-convert:hover {\n",
              "      background-color: #434B5C;\n",
              "      box-shadow: 0px 1px 3px 1px rgba(0, 0, 0, 0.15);\n",
              "      filter: drop-shadow(0px 1px 2px rgba(0, 0, 0, 0.3));\n",
              "      fill: #FFFFFF;\n",
              "    }\n",
              "  </style>\n",
              "\n",
              "      <script>\n",
              "        const buttonEl =\n",
              "          document.querySelector('#df-367a461c-fe38-4230-8198-3c3dacd0fe0c button.colab-df-convert');\n",
              "        buttonEl.style.display =\n",
              "          google.colab.kernel.accessAllowed ? 'block' : 'none';\n",
              "\n",
              "        async function convertToInteractive(key) {\n",
              "          const element = document.querySelector('#df-367a461c-fe38-4230-8198-3c3dacd0fe0c');\n",
              "          const dataTable =\n",
              "            await google.colab.kernel.invokeFunction('convertToInteractive',\n",
              "                                                     [key], {});\n",
              "          if (!dataTable) return;\n",
              "\n",
              "          const docLinkHtml = 'Like what you see? Visit the ' +\n",
              "            '<a target=\"_blank\" href=https://colab.research.google.com/notebooks/data_table.ipynb>data table notebook</a>'\n",
              "            + ' to learn more about interactive tables.';\n",
              "          element.innerHTML = '';\n",
              "          dataTable['output_type'] = 'display_data';\n",
              "          await google.colab.output.renderOutput(dataTable, element);\n",
              "          const docLink = document.createElement('div');\n",
              "          docLink.innerHTML = docLinkHtml;\n",
              "          element.appendChild(docLink);\n",
              "        }\n",
              "      </script>\n",
              "    </div>\n",
              "  </div>\n",
              "  "
            ]
          },
          "metadata": {},
          "execution_count": 40
        }
      ]
    },
    {
      "cell_type": "code",
      "source": [
        "df.to_csv(author +'.csv', sep=',', index=False, encoding='utf-8')"
      ],
      "metadata": {
        "id": "4ytvYXmGKdOM"
      },
      "execution_count": null,
      "outputs": []
    }
  ]
}